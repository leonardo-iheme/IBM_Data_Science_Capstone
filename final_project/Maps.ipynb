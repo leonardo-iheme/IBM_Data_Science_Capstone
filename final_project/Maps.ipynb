{
 "cells": [
  {
   "cell_type": "markdown",
   "metadata": {},
   "source": [
    "# Maps for my data science project"
   ]
  },
  {
   "cell_type": "code",
   "execution_count": 1,
   "metadata": {
    "ExecuteTime": {
     "end_time": "2019-07-24T10:36:18.749099Z",
     "start_time": "2019-07-24T10:36:18.741874Z"
    }
   },
   "outputs": [
    {
     "data": {
      "text/markdown": [
       "<!-- blank line -->\n",
       "<figure class=\"video_container\">\n",
       "  <iframe width=\"100%\" height=\"600px\" name=\"htmlComp-iframe\" scrolling=\"auto\" sandbox=\"allow-same-origin allow-forms allow-popups allow-scripts allow-pointer-lock\" src=\"https://leonardoiheme-wixsite-com.filesusr.com/html/d6f1dc_49fd03c3e444d6b22e9bd739e9c60eb8.html\"></iframe>\n",
       "</figure>\n",
       "<!-- blank line -->\n"
      ],
      "text/plain": [
       "<IPython.core.display.Markdown object>"
      ]
     },
     "metadata": {},
     "output_type": "display_data"
    }
   ],
   "source": [
    "%%html\n",
    "<!-- blank line -->\n",
    "<figure class=\"video_container\">\n",
    "  <iframe width=\"100%\" height=\"600px\" name=\"htmlComp-iframe\" scrolling=\"auto\" sandbox=\"allow-same-origin allow-forms allow-popups allow-scripts allow-pointer-lock\" src=\"https://leonardoiheme-wixsite-com.filesusr.com/html/d6f1dc_49fd03c3e444d6b22e9bd739e9c60eb8.html\"></iframe>\n",
    "</figure>\n",
    "<!-- blank line -->"
   ]
  },
  {
   "cell_type": "code",
   "execution_count": 2,
   "metadata": {},
   "outputs": [
    {
     "data": {
      "text/html": [
       "<!-- blank line -->\n",
       "<figure class=\"video_container\">\n",
       "  <iframe width=\"100%\" height=\"600px\" name=\"htmlComp-iframe\" scrolling=\"auto\" sandbox=\"allow-same-origin allow-forms allow-popups allow-scripts allow-pointer-lock\" src=\"https://leonardoiheme-wixsite-com.filesusr.com/html/d6f1dc_a4b91ebc367c3c4fe89f58cb5f350f75.html\"></iframe>\n",
       "</figure>\n",
       "<!-- blank line -->\n"
      ],
      "text/plain": [
       "<IPython.core.display.HTML object>"
      ]
     },
     "metadata": {},
     "output_type": "display_data"
    }
   ],
   "source": [
    "%%html\n",
    "<!-- blank line -->\n",
    "<figure class=\"video_container\">\n",
    "  <iframe width=\"100%\" height=\"600px\" name=\"htmlComp-iframe\" scrolling=\"auto\" sandbox=\"allow-same-origin allow-forms allow-popups allow-scripts allow-pointer-lock\" src=\"https://leonardoiheme-wixsite-com.filesusr.com/html/d6f1dc_a4b91ebc367c3c4fe89f58cb5f350f75.html\"></iframe>\n",
    "</figure>\n",
    "<!-- blank line -->"
   ]
  },
  {
   "cell_type": "code",
   "execution_count": 3,
   "metadata": {
    "scrolled": false
   },
   "outputs": [
    {
     "data": {
      "text/html": [
       "<!-- blank line -->\n",
       "<figure class=\"video_container\">\n",
       "  <iframe width=\"100%\" height=\"600px\" name=\"htmlComp-iframe\" scrolling=\"auto\" sandbox=\"allow-same-origin allow-forms allow-popups allow-scripts allow-pointer-lock\" src=\"https://leonardoiheme-wixsite-com.filesusr.com/html/d6f1dc_efc448e8403300d1f1c934b3098d0d3a.html\"></iframe>\n",
       "</figure>\n",
       "<!-- blank line -->\n"
      ],
      "text/plain": [
       "<IPython.core.display.HTML object>"
      ]
     },
     "metadata": {},
     "output_type": "display_data"
    }
   ],
   "source": [
    "%%html\n",
    "<!-- blank line -->\n",
    "<figure class=\"video_container\">\n",
    "  <iframe width=\"100%\" height=\"600px\" name=\"htmlComp-iframe\" scrolling=\"auto\" sandbox=\"allow-same-origin allow-forms allow-popups allow-scripts allow-pointer-lock\" src=\"https://leonardoiheme-wixsite-com.filesusr.com/html/d6f1dc_efc448e8403300d1f1c934b3098d0d3a.html\"></iframe>\n",
    "</figure>\n",
    "<!-- blank line -->"
   ]
  },
  {
   "cell_type": "code",
   "execution_count": 4,
   "metadata": {},
   "outputs": [
    {
     "data": {
      "text/html": [
       "<!-- blank line -->\n",
       "<figure class=\"video_container\">\n",
       "  <iframe width=\"100%\" height=\"600px\" name=\"htmlComp-iframe\" scrolling=\"auto\" sandbox=\"allow-same-origin allow-forms allow-popups allow-scripts allow-pointer-lock\" src=\"https://leonardoiheme-wixsite-com.filesusr.com/html/d6f1dc_4eda0dbbf214fbdfd5477e5472a4e149.html\"></iframe>\n",
       "</figure>\n",
       "<!-- blank line -->\n"
      ],
      "text/plain": [
       "<IPython.core.display.HTML object>"
      ]
     },
     "metadata": {},
     "output_type": "display_data"
    }
   ],
   "source": [
    "%%html\n",
    "<!-- blank line -->\n",
    "<figure class=\"video_container\">\n",
    "  <iframe width=\"100%\" height=\"600px\" name=\"htmlComp-iframe\" scrolling=\"auto\" sandbox=\"allow-same-origin allow-forms allow-popups allow-scripts allow-pointer-lock\" src=\"https://leonardoiheme-wixsite-com.filesusr.com/html/d6f1dc_4eda0dbbf214fbdfd5477e5472a4e149.html\"></iframe>\n",
    "</figure>\n",
    "<!-- blank line -->"
   ]
  },
  {
   "cell_type": "code",
   "execution_count": 5,
   "metadata": {},
   "outputs": [
    {
     "data": {
      "text/html": [
       "<!-- blank line -->\n",
       "<figure class=\"video_container\">\n",
       "  <iframe width=\"100%\" height=\"600px\" name=\"htmlComp-iframe\" scrolling=\"auto\" sandbox=\"allow-same-origin allow-forms allow-popups allow-scripts allow-pointer-lock\" src=\"https://leonardoiheme-wixsite-com.filesusr.com/html/d6f1dc_49becf2cf26923789bd4c46dad762209.html\"></iframe>\n",
       "</figure>\n",
       "<!-- blank line -->\n"
      ],
      "text/plain": [
       "<IPython.core.display.HTML object>"
      ]
     },
     "metadata": {},
     "output_type": "display_data"
    }
   ],
   "source": [
    "%%html\n",
    "<!-- blank line -->\n",
    "<figure class=\"video_container\">\n",
    "  <iframe width=\"100%\" height=\"600px\" name=\"htmlComp-iframe\" scrolling=\"auto\" sandbox=\"allow-same-origin allow-forms allow-popups allow-scripts allow-pointer-lock\" src=\"https://leonardoiheme-wixsite-com.filesusr.com/html/d6f1dc_49becf2cf26923789bd4c46dad762209.html\"></iframe>\n",
    "</figure>\n",
    "<!-- blank line -->"
   ]
  },
  {
   "cell_type": "code",
   "execution_count": 8,
   "metadata": {},
   "outputs": [
    {
     "data": {
      "text/html": [
       "<!-- blank line -->\n",
       "<figure class=\"video_container\">\n",
       "  <iframe width=\"100%\" height=\"600px\" name=\"htmlComp-iframe\" scrolling=\"auto\" sandbox=\"allow-same-origin allow-forms allow-popups allow-scripts allow-pointer-lock\" src=\"https://leonardoiheme-wixsite-com.filesusr.com/html/d6f1dc_b9cdb4cd6b3bc477a7380225601011e9.html\"></iframe>\n",
       "</figure>\n",
       "<!-- blank line -->\n"
      ],
      "text/plain": [
       "<IPython.core.display.HTML object>"
      ]
     },
     "metadata": {},
     "output_type": "display_data"
    }
   ],
   "source": [
    "%%html\n",
    "<!-- blank line -->\n",
    "<figure class=\"video_container\">\n",
    "  <iframe width=\"100%\" height=\"600px\" name=\"htmlComp-iframe\" scrolling=\"auto\" sandbox=\"allow-same-origin allow-forms allow-popups allow-scripts allow-pointer-lock\" src=\"https://leonardoiheme-wixsite-com.filesusr.com/html/d6f1dc_b9cdb4cd6b3bc477a7380225601011e9.html\"></iframe>\n",
    "</figure>\n",
    "<!-- blank line -->"
   ]
  },
  {
   "cell_type": "code",
   "execution_count": null,
   "metadata": {},
   "outputs": [],
   "source": []
  }
 ],
 "metadata": {
  "kernelspec": {
   "display_name": "Python 3",
   "language": "python",
   "name": "python3"
  },
  "language_info": {
   "codemirror_mode": {
    "name": "ipython",
    "version": 3
   },
   "file_extension": ".py",
   "mimetype": "text/x-python",
   "name": "python",
   "nbconvert_exporter": "python",
   "pygments_lexer": "ipython3",
   "version": "3.7.3"
  },
  "varInspector": {
   "cols": {
    "lenName": 16,
    "lenType": 16,
    "lenVar": 40
   },
   "kernels_config": {
    "python": {
     "delete_cmd_postfix": "",
     "delete_cmd_prefix": "del ",
     "library": "var_list.py",
     "varRefreshCmd": "print(var_dic_list())"
    },
    "r": {
     "delete_cmd_postfix": ") ",
     "delete_cmd_prefix": "rm(",
     "library": "var_list.r",
     "varRefreshCmd": "cat(var_dic_list()) "
    }
   },
   "types_to_exclude": [
    "module",
    "function",
    "builtin_function_or_method",
    "instance",
    "_Feature"
   ],
   "window_display": false
  }
 },
 "nbformat": 4,
 "nbformat_minor": 2
}
