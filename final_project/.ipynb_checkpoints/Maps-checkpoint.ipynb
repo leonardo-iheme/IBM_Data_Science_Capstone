{
 "cells": [
  {
   "cell_type": "markdown",
   "metadata": {},
   "source": [
    "# Maps for my data science project"
   ]
  },
  {
   "cell_type": "code",
   "execution_count": 1,
   "metadata": {
    "ExecuteTime": {
     "end_time": "2019-07-24T10:36:18.749099Z",
     "start_time": "2019-07-24T10:36:18.741874Z"
    }
   },
   "outputs": [
    {
     "data": {
      "text/html": [
       "<!-- blank line -->\n",
       "<figure class=\"video_container\">\n",
       "  <iframe width=\"100%\" height=\"600px\" name=\"htmlComp-iframe\" scrolling=\"auto\" sandbox=\"allow-same-origin allow-forms allow-popups allow-scripts allow-pointer-lock\" src=\"https://leonardoiheme-wixsite-com.filesusr.com/html/d6f1dc_49fd03c3e444d6b22e9bd739e9c60eb8.html\"></iframe>\n",
       "</figure>\n",
       "<!-- blank line -->\n"
      ],
      "text/plain": [
       "<IPython.core.display.HTML object>"
      ]
     },
     "metadata": {},
     "output_type": "display_data"
    }
   ],
   "source": [
    "%%html\n",
    "<!-- blank line -->\n",
    "<figure class=\"video_container\">\n",
    "  <iframe width=\"100%\" height=\"600px\" name=\"htmlComp-iframe\" scrolling=\"auto\" sandbox=\"allow-same-origin allow-forms allow-popups allow-scripts allow-pointer-lock\" src=\"https://leonardoiheme-wixsite-com.filesusr.com/html/d6f1dc_49fd03c3e444d6b22e9bd739e9c60eb8.html\"></iframe>\n",
    "</figure>\n",
    "<!-- blank line -->"
   ]
  },
  {
   "cell_type": "code",
   "execution_count": null,
   "metadata": {},
   "outputs": [],
   "source": []
  }
 ],
 "metadata": {
  "kernelspec": {
   "display_name": "Python 3",
   "language": "python",
   "name": "python3"
  },
  "language_info": {
   "codemirror_mode": {
    "name": "ipython",
    "version": 3
   },
   "file_extension": ".py",
   "mimetype": "text/x-python",
   "name": "python",
   "nbconvert_exporter": "python",
   "pygments_lexer": "ipython3",
   "version": "3.7.3"
  },
  "varInspector": {
   "cols": {
    "lenName": 16,
    "lenType": 16,
    "lenVar": 40
   },
   "kernels_config": {
    "python": {
     "delete_cmd_postfix": "",
     "delete_cmd_prefix": "del ",
     "library": "var_list.py",
     "varRefreshCmd": "print(var_dic_list())"
    },
    "r": {
     "delete_cmd_postfix": ") ",
     "delete_cmd_prefix": "rm(",
     "library": "var_list.r",
     "varRefreshCmd": "cat(var_dic_list()) "
    }
   },
   "types_to_exclude": [
    "module",
    "function",
    "builtin_function_or_method",
    "instance",
    "_Feature"
   ],
   "window_display": false
  }
 },
 "nbformat": 4,
 "nbformat_minor": 2
}
