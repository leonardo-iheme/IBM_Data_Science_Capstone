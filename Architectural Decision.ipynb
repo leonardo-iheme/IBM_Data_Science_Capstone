{
 "cells": [
  {
   "cell_type": "markdown",
   "metadata": {},
   "source": [
    "# IBM Advanced Data Science Project Report\n",
    "Feel free to [contact me](https://www.linkedin.com/in/leonardo-iheme/) if you have any questions.  \n",
    "September, 2019  \n",
    "**By:**  \n",
    "### Leonardo O. Iheme"
   ]
  },
  {
   "cell_type": "markdown",
   "metadata": {},
   "source": [
    "# 1 Introduction"
   ]
  },
  {
   "cell_type": "markdown",
   "metadata": {},
   "source": [
    "# 1.1 Background\n",
    "In this report, I will outline the steps I took to discover similar and dissimilar coffee-neighborhoods in Istanbul locals' favorite districts.\n",
    "\n",
    "Istanbul is one of the biggest and most populous cities in the world, the only city that exists on two continents. Both parts of the city are divided by the Bosphorous strait. Two Districts loved by Istanbul residents are Beşiktaş (be-shik-tash) and Kadıköy (ka-di-koy) on the European and Asian side respectively. While these districts have a lot in common, they have their fair share of differences as well, the surge of coffee shops for one. In fact, according to [Foursquare](https://foursquare.com/top-places/istanbul/best-places-coffee), [8 of 15 best coffee shops in Istanbul are located in Beşiktaş and Kadıköy]\n",
    "\n",
    "There is a fierce debate among residents about the neighborhood to best enjoy a cup of coffee. This report will address the issue by providing insights drawn from data.  \n",
    "\n",
    "\n",
    "# 1.2 Problem Statement\n",
    "After tea, coffee is the next most consumed beverage in the country and that is for good reason. In modern Istanbul, to escape the tourist traps and mingle with locals, the best places to have a coffee are Beşiktaş and Kadıköy. As a visitor, finding a venue and neighborhood to have a coffee can be quite difficult given the wide range of choices and factors. \n",
    "\n",
    "This study will be of interest to both visitors of Istanbul and locals who yet to discover the hidden similarities between the two most sought after neighborhoods. The report will help readers to:\n",
    "1. Be more familiar with the discussed neighborhoods\n",
    "2. Understand the relationship between coffee shops and other neighborhood attributes\n",
    "3. Discover the similarities between neighborhoods in terms of coffee shops and other attributes\n",
    "4. Be able to make better-informed decisions about where to coffee in Istanbul like a resident"
   ]
  },
  {
   "cell_type": "markdown",
   "metadata": {},
   "source": [
    "# 2 Data"
   ]
  },
  {
   "cell_type": "markdown",
   "metadata": {},
   "source": [
    "All the data used in this project were obtained from various sources on the internet. While some were ready to use, others had to be wrangled and cleaned. Data manipulation was performed with _Python_, using mostly the _Pandas_ library. The data was collected towards building the attributes of each neighborhood bearing in mind the factors that could affect a coffee experience. It is worth noting that the data may be limited in some cases because I used free tier accounts but it gives a good sense of proportions.\n",
    "## 2.1 Population & Demographics Data\n",
    "Since the region of interest (ROI) has been narrowed down to Beşiktaş and Kadıköy, I could crawl the web and scrape using _beautiful soup_ to obtain such information as: \n",
    "* The list of neighborhoods in each district,\n",
    "* The population of each neighborhood, and\n",
    "* The average price of residential rent at each neighborhood\n",
    "\n",
    "## 2.2 Geographical Data\n",
    "To locate the neighborhoods, I leveraged on Google Maps API and the [Open Street maps project](https://www.openstreetmap.org). The information obtained from the respective sources are as follows:\n",
    "* Google maps: coordinates as longitude and latitude pairs\n",
    "* Open street maps: neighborhood boundaries as polygon coordinates which were then converted to *geojson* files using an API provided by [geojson.io](http://geojson.io/)\n",
    "\n",
    "## 2.3 Location Data\n",
    "The list of coffee shops was obtained by querying [foursquare](https://foursquare.com/) through the API. As I use a free tier account, the results of my queries were limited in some cases.\n",
    "##  \n",
    "The features which will be extracted from the data include the **number of coffee shops per neighborhood, the average distance from the center of the neighborhood to the seaside, the estimated number of people served by a coffee shop in each neighborhood, and the socioeconomic status of each neighborhood**. With the extracted features, exploratory as well as inferential data analysis will be carried out. Finally, the neighborhoods will be clustered using machine learning."
   ]
  },
  {
   "cell_type": "markdown",
   "metadata": {},
   "source": [
    "# 3 Methodology"
   ]
  },
  {
   "cell_type": "markdown",
   "metadata": {},
   "source": [
    "In this section, the steps taken to obtain the results will be described in detail. It will include data acquisition techniques, data wrandling, data exploratory analysis as well as feature extraction techniques.\n",
    "## 3.1 Data Acquisition\n",
    "### 3.1.1 Population and Demographics\n",
    "I started by searching the internet for the list of neighborhoods and their respective postal codes. This information was easily obtained from  [bulurum.com](https://www.bulurum.com/en/), an online business directory which provides detailed, geolocated information for all kinds of businesses and professionals in all regions and cities in Turkey.\n",
    "The list can be found on the district's pages and requested as follows:\n",
    "```python\n",
    "# Source of neighborhoods and postal codes\n",
    "besiktas = requests.get(r\"https://www.bulurum.com/en/post-codes/besiktas/istanbul/\").text\n",
    "kadikoy = requests.get(r\"https://www.bulurum.com/en/post-codes/kadikoy/istanbul/\").text\n",
    "```\n",
    "using the requests library. Then a ```beautiful soup``` instance was created using the following code snipet:\n",
    "```python\n",
    "# Create a BeautifulSoup instance\n",
    "b_soup = BeautifulSoup(besiktas)\n",
    "k_soup = BeautifulSoup(kadikoy)```\n",
    "After inspecting the pages, I could extract and organize the information that I needed into a dataframe as shown\n",
    "\n",
    "  Idx | Post_codes |                                      Neighborhood \n",
    ":---:|:----------:|--------------------------------------------------:\n",
    " 0 |    34022   |     ABBASAĞA MAH., CIHANNUMA MAH., SİNANPAŞA MAH. \n",
    " 1 |    34330   |                        KONAKLAR MAH., LEVENT MAH. \n",
    " 2 |    34335   |                                         AKAT MAH. \n",
    " 3 |    34337   |                                       ETİLER MAH. \n",
    " 4 |    34340   | KÜLTÜR MAH., LEVAZIM MAH., NİSBETİYE MAH., ULU... \n",
    "\n",
    "The population of each neighborhood was obtained from [endeksa.com](https://www.endeksa.com/en/), an up-to-date analytics website for real estate in Turkey.\n",
    "### 3.1.2 Geography & Location\n",
    "#### Geography\n",
    "Using the Google maps API, it was possible to query the latitudes and longitudes of the neighborhoods. The names of the neigborhoods and the postal codes were used as an approximate address in a ```for``` loop.\n",
    "```python\n",
    "# Geocoding the addresses\n",
    "latitude = []\n",
    "longitude = []\n",
    "for x in coffee_shops_population.itertuples():\n",
    "    geocode_result = gmaps.geocode(f'{x.Neighborhood}, Istanbul')\n",
    "    # concatenate the latitudes and longitudes\n",
    "    latitude = latitude + [geocode_result[0]['geometry']['location']['lat']]\n",
    "    longitude = longitude + [(geocode_result[0]['geometry']['location']['lng'])]\n",
    "\n",
    "# Add the latitudes and longitudes to the dataframe\n",
    "coffee_shops_population['Latitude'] = latitude\n",
    "coffee_shops_population['Longitude'] = longitude\n",
    "coffee_shops_population.head()\n",
    "```\n",
    "In addition to the coordinates obtained from the google maps API, I also got the mount of time it would take to walk from the neighbohood center to the nearest coast. I added this as a feature because in Istanbul, having a seaview is one of the factors that could affect one's coffee experience.\n",
    "\n",
    "The neighborhoods to be examined are shown pinned on the [map](https://leonardoiheme.wixsite.com/ibmproject/neighborhoods) below"
   ]
  },
  {
   "cell_type": "code",
   "execution_count": 2,
   "metadata": {
    "scrolled": false
   },
   "outputs": [
    {
     "data": {
      "text/html": [
       "<!-- blank line -->\n",
       "<figure class=\"video_container\">\n",
       "  <iframe width=\"100%\" height=\"600px\" name=\"htmlComp-iframe\" scrolling=\"auto\" sandbox=\"allow-same-origin allow-forms allow-popups allow-scripts allow-pointer-lock\" src=\"https://leonardoiheme-wixsite-com.filesusr.com/html/d6f1dc_a4b91ebc367c3c4fe89f58cb5f350f75.html\"></iframe>\n",
       "</figure>\n",
       "<!-- blank line -->\n"
      ],
      "text/plain": [
       "<IPython.core.display.HTML object>"
      ]
     },
     "metadata": {},
     "output_type": "display_data"
    }
   ],
   "source": [
    "%%html\n",
    "<!-- blank line -->\n",
    "<figure class=\"video_container\">\n",
    "  <iframe width=\"100%\" height=\"600px\" name=\"htmlComp-iframe\" scrolling=\"auto\" sandbox=\"allow-same-origin allow-forms allow-popups allow-scripts allow-pointer-lock\" src=\"https://leonardoiheme-wixsite-com.filesusr.com/html/d6f1dc_a4b91ebc367c3c4fe89f58cb5f350f75.html\"></iframe>\n",
    "</figure>\n",
    "<!-- blank line -->"
   ]
  },
  {
   "cell_type": "markdown",
   "metadata": {},
   "source": [
    "#### Location\n",
    "Location data was obtained by querying the foursquare database via the API. Of particular interest to this project was the cafes and coffee shops within a 2 Km radius of each neighborhoods center. To download the data, the following information is required as input:\n",
    "* Client ID\n",
    "* Client secrete\n",
    "* Latitude\n",
    "* Longitude\n",
    "* Version\n",
    "* Search radius\n",
    "\n",
    "After downloading the data and cleaning it, the number of coffee shops in each neighborhood was obtained and is depicted in the following figure:\n",
    "![alt text](coffee_shops_neighborhood.png \"The number of coffee shops in each neighborhood\")\n",
    "\n",
    "It is obvious which neighborhoods have the most coffee shops.\n"
   ]
  },
  {
   "cell_type": "markdown",
   "metadata": {},
   "source": [
    "Before moving on to exploratory data analysis, it is worth mentioning one more feature of the data. Since the population and number of coffee shops in each neighbohood are known, a rough estimate of the number of people served by each coffee shop can be obtained by dividing the population by the number of coffee shops. With `pandas`, this was easy to calculate\n",
    "```python\n",
    "# Estimate number of people per coffee shop and add to the dataframe.\n",
    "coffee_shops_population['PeoplePerCoffeeShop'] = coffee_shops_population['Population'] / coffee_shops_population['# Coffee shops']\n",
    "```\n",
    "The columns of the final dataframe is shown below:\n",
    "\n",
    "|Idx|Neighborhood  |District|HouseRent(sqm)|Population|# Coffee shops|WalkToSeaside(min)|Latitude |Longitude|PeoplePerCoffeeShop|\n",
    "|------|--------------|--------|--------------|----------|--------------|------------------|---------|---------|-------------------|"
   ]
  },
  {
   "cell_type": "markdown",
   "metadata": {},
   "source": [
    "## 3.2 Exploratory Data Analysis"
   ]
  },
  {
   "cell_type": "markdown",
   "metadata": {},
   "source": [
    "In this section, the data is looked into with more detail. A brief camparison of the two districts is made to highlight how they contrast based on the different features. A basic statistical summary of the data is shown below\n",
    "\n",
    "|Stat |HouseRent(sqm)|Population  |# Coffee shops|WalkToSeaside(min)|Latitude |Longitude|PeoplePerCoffeeShop|\n",
    "|-----|--------------|------------|--------------|------------------|---------|---------|-------------------|\n",
    "|count|44.000000     |44.000000   |44.000000     |44.000000         |44.000000|44.000000|44.000000          |\n",
    "|mean |22.909091     |14475.000000|12.659091     |22.318182         |41.026023|29.034685|1485.218322        |\n",
    "|std  |5.116404      |10060.739575|6.647060      |14.806932         |0.042205 |0.026972 |1334.437329        |\n",
    "|min  |15.000000     |2534.000000 |5.000000      |1.000000          |40.958317|28.992715|144.037037         |\n",
    "|25%  |18.000000     |6209.500000 |8.000000      |10.000000         |40.988611|29.014604|510.093583         |\n",
    "|50%  |23.000000     |11504.000000|9.500000      |20.000000         |41.045028|29.031286|960.270833         |\n",
    "|75%  |27.000000     |19358.000000|17.000000     |32.750000         |41.062030|29.049266|1917.916667        |\n",
    "|max  |35.000000     |35260.000000|27.000000     |60.000000         |41.093440|29.100420|5091.500000        |\n",
    "\n",
    "If broken down further, the averages of each neighborhood can be observed as follows:\n",
    "\n",
    "|District|HouseRent(sqm)|Population  |# Coffee shops|WalkToSeaside(min)|PeoplePerCoffeeShop|\n",
    "|--------|--------------|------------|--------------|------------------|-------------------|\n",
    "|Besiktas|26.739130     |8062.913043 |13.086957     |21.565217         |781.023908         |\n",
    "|Kadikoy |18.714286     |21497.761905|12.190476     |23.142857         |2256.478872        |\n",
    "\n",
    "##### Observations\n",
    "* Even though Kadıköy has a much higher population than Beşiktaş, both neighborhoods have around the same average number of coffee shops per neighborhood. There must be a higher coffee shop density in Beşiktaş but according to the number of people per coffee shop, this is not the case"
   ]
  },
  {
   "cell_type": "markdown",
   "metadata": {},
   "source": [
    "### 3.2.1 Population\n",
    "The distribution of the population of both districs is given in the violin plot.\n",
    "![alt text](population_bar.png \"The population of each district\")\n",
    "The population of Kadıköy is much higher than that of Beşiktaş.\n",
    "When observed at the neighborhood level, the distribution of the population becomes clearer. To see this, a [choropleth map](https://leonardoiheme.wixsite.com/ibmproject/population) is created"
   ]
  },
  {
   "cell_type": "code",
   "execution_count": 3,
   "metadata": {},
   "outputs": [
    {
     "data": {
      "text/markdown": [
       "<!-- blank line -->\n",
       "<figure class=\"video_container\">\n",
       "  <iframe width=\"100%\" height=\"600px\" name=\"htmlComp-iframe\" scrolling=\"auto\" sandbox=\"allow-same-origin allow-forms allow-popups allow-scripts allow-pointer-lock\" src=\"https://leonardoiheme-wixsite-com.filesusr.com/html/d6f1dc_efc448e8403300d1f1c934b3098d0d3a.html\"></iframe>\n",
       "</figure>\n",
       "<!-- blank line -->\n"
      ],
      "text/plain": [
       "<IPython.core.display.Markdown object>"
      ]
     },
     "metadata": {},
     "output_type": "display_data"
    }
   ],
   "source": [
    "%%markdown\n",
    "<!-- blank line -->\n",
    "<figure class=\"video_container\">\n",
    "  <iframe width=\"100%\" height=\"600px\" name=\"htmlComp-iframe\" scrolling=\"auto\" sandbox=\"allow-same-origin allow-forms allow-popups allow-scripts allow-pointer-lock\" src=\"https://leonardoiheme-wixsite-com.filesusr.com/html/d6f1dc_efc448e8403300d1f1c934b3098d0d3a.html\"></iframe>\n",
    "</figure>\n",
    "<!-- blank line -->"
   ]
  },
  {
   "cell_type": "markdown",
   "metadata": {},
   "source": [
    "### 3.2.2 Number of coffee shops\n",
    "The number of coffee shops and how they are distributed between the districts is shown in the violin plot below\n",
    "![alt text](coffee_shops_violin.png \"The distribution of coffee shops in each district\")\n",
    "##### Observations\n",
    "* As seen from the table of averages, both districs have an almost equal number of coffee shops. We can also see that the variation in the number of coffee shops per neighborhood in both districs is almost eqal as well.\n",
    "\n",
    "A [choropleth map](https://leonardoiheme.wixsite.com/ibmproject) reveals more detail."
   ]
  },
  {
   "cell_type": "code",
   "execution_count": 4,
   "metadata": {},
   "outputs": [
    {
     "data": {
      "text/html": [
       "<!-- blank line -->\n",
       "<figure class=\"video_container\">\n",
       "  <iframe width=\"100%\" height=\"600px\" name=\"htmlComp-iframe\" scrolling=\"auto\" sandbox=\"allow-same-origin allow-forms allow-popups allow-scripts allow-pointer-lock\" src=\"https://leonardoiheme-wixsite-com.filesusr.com/html/d6f1dc_49fd03c3e444d6b22e9bd739e9c60eb8.html\"></iframe>\n",
       "</figure>\n",
       "<!-- blank line -->\n"
      ],
      "text/plain": [
       "<IPython.core.display.HTML object>"
      ]
     },
     "metadata": {},
     "output_type": "display_data"
    }
   ],
   "source": [
    "%%html\n",
    "<!-- blank line -->\n",
    "<figure class=\"video_container\">\n",
    "  <iframe width=\"100%\" height=\"600px\" name=\"htmlComp-iframe\" scrolling=\"auto\" sandbox=\"allow-same-origin allow-forms allow-popups allow-scripts allow-pointer-lock\" src=\"https://leonardoiheme-wixsite-com.filesusr.com/html/d6f1dc_49fd03c3e444d6b22e9bd739e9c60eb8.html\"></iframe>\n",
    "</figure>\n",
    "<!-- blank line -->"
   ]
  },
  {
   "cell_type": "markdown",
   "metadata": {},
   "source": [
    "### 3.2.3 Price of rent\n",
    "The distribution of the cost of renting in each neighborhood can be visualized with a violin plot.\n",
    "![alt text](price_of_rent_violin.png \"The distribution of cost of renting in both districts\")\n",
    "#### Observations\n",
    "* It costs more to rent in Beşiktaş than in Kadıköy.\n",
    "* The price of rent varies more across the neighborhoods in Kadıköy. This can be seen from the wide shape of the violin plot.\n",
    "\n",
    "A [choropleth map](https://leonardoiheme.wixsite.com/ibmproject/price-of-rent) reflects the observations."
   ]
  },
  {
   "cell_type": "code",
   "execution_count": 5,
   "metadata": {},
   "outputs": [
    {
     "data": {
      "text/html": [
       "<!-- blank line -->\n",
       "<figure class=\"video_container\">\n",
       "  <iframe width=\"100%\" height=\"600px\" name=\"htmlComp-iframe\" scrolling=\"auto\" sandbox=\"allow-same-origin allow-forms allow-popups allow-scripts allow-pointer-lock\" src=\"https://leonardoiheme-wixsite-com.filesusr.com/html/d6f1dc_49becf2cf26923789bd4c46dad762209.html\"></iframe>\n",
       "</figure>\n",
       "<!-- blank line -->\n"
      ],
      "text/plain": [
       "<IPython.core.display.HTML object>"
      ]
     },
     "metadata": {},
     "output_type": "display_data"
    }
   ],
   "source": [
    "%%html\n",
    "<!-- blank line -->\n",
    "<figure class=\"video_container\">\n",
    "  <iframe width=\"100%\" height=\"600px\" name=\"htmlComp-iframe\" scrolling=\"auto\" sandbox=\"allow-same-origin allow-forms allow-popups allow-scripts allow-pointer-lock\" src=\"https://leonardoiheme-wixsite-com.filesusr.com/html/d6f1dc_49becf2cf26923789bd4c46dad762209.html\"></iframe>\n",
    "</figure>\n",
    "<!-- blank line -->"
   ]
  },
  {
   "cell_type": "markdown",
   "metadata": {},
   "source": [
    "# 4 Results and Discussion"
   ]
  },
  {
   "cell_type": "markdown",
   "metadata": {},
   "source": [
    "This section provides insights into the extracted features and how they compare. Some observations are also highlighted to aid understanding.\n",
    "## 4.1 Regression\n",
    "To observe how the number of coffee shops is related to the other features such as the price of housing, the average shortest time it takes to get to the coast from the centre, and the number of people served by each coffee shop; a regression plot is made.\n",
    "![alt text](reg_plots.png \"The relationship between the number of coffee shops and other features\")\n",
    "From the left,\n",
    "* The first plot shows that the price of rent is likely to be higher if there are a lot of coffee shops in the area. In Besikttas, the reverse is the case.\n",
    "* The second figure reveals that as the population of an area decreases, the number of coffee shops also decreases.\n",
    "* We can also observe that the further away the neighborhood is from the seaside, the fewer coffee shops it is likely to have."
   ]
  },
  {
   "cell_type": "markdown",
   "metadata": {},
   "source": [
    "## 4.2 Interesting Neighborhoods (Outliers)\n",
    "Some neighborhoods stand out as we observe from the correlation plots. To take a closer look at these interesting neighborhoods, the scatter plot below is provided\n",
    "![alt text](neighborhood_coffee_scatter.png \"Observing the interesting neighborhoods\")\n",
    "With respect to the cost of renting, the following observations can be made:\n",
    "* **Fenerbahce Mah.** is the most expensive neighborhood in Kadıköy and it has the most number of coffee shops.\n",
    "* Renting at **Egitim Mah.** is relatively cheap and there are a lot of coffee shops in the area.\n",
    "* **Ulus Mah.** in Beşiktaş has a few coffee shops but a high rental price.\n",
    "* In general, Kadıköy seems to be a more diverse district than Beşiktaş."
   ]
  },
  {
   "cell_type": "markdown",
   "metadata": {},
   "source": [
    "## 4.3 Clustering Analysis (K-Means Clustering)\n",
    "To detect similar neighborhoods based on the extracted features, an un-supervised machine learning modelis trained. Specifically, K-means clustering is used to divide all the neighborhoods into five groups. The reason for choosing five is, I imagine that, as a visitor, you have five days to spend in the city and you want to have a totally different coffee experience (like a local) everyday, this algorithm will help objectively guide you to selecting five neighborhoods in Beşiktaş and Kadıköy that will deliver different experiences.  \n",
    "The following code shows how K-means clustering was run. With the `scikit-learn` library, in just a few lines, machine learning algorithms can be run\n",
    "```python\n",
    "# set number of clusters\n",
    "kclusters = 5\n",
    "\n",
    "#Drop categorical variables\n",
    "clustering = coffee_shops_population.drop(['Neighborhood', 'District', 'Latitude', 'Longitude'], 1)\n",
    "\n",
    "# Normalizing over the standard deviation\n",
    "from sklearn.preprocessing import StandardScaler\n",
    "X = clustering.values[:,1:]\n",
    "X = np.nan_to_num(X)\n",
    "Clus_dataSet = StandardScaler().fit_transform(X)\n",
    "\n",
    "# run k-means clustering\n",
    "kmeans = KMeans(n_clusters=kclusters, random_state=0).fit(Clus_dataSet)\n",
    "\n",
    "# check cluster labels generated for each row in the dataframe\n",
    "kmeans.labels_\n",
    "```\n",
    "The map below shows the neighborhoods color coded. Similar *coffee* neighborhoods have the same color."
   ]
  },
  {
   "cell_type": "code",
   "execution_count": 6,
   "metadata": {
    "scrolled": false
   },
   "outputs": [
    {
     "data": {
      "text/html": [
       "<!-- blank line -->\n",
       "<figure class=\"video_container\">\n",
       "  <iframe width=\"100%\" height=\"600px\" name=\"htmlComp-iframe\" scrolling=\"auto\" sandbox=\"allow-same-origin allow-forms allow-popups allow-scripts allow-pointer-lock\" src=\"https://leonardoiheme-wixsite-com.filesusr.com/html/d6f1dc_b9cdb4cd6b3bc477a7380225601011e9.html\"></iframe>\n",
       "</figure>\n",
       "<!-- blank line -->\n"
      ],
      "text/plain": [
       "<IPython.core.display.HTML object>"
      ]
     },
     "metadata": {},
     "output_type": "display_data"
    }
   ],
   "source": [
    "%%html\n",
    "<!-- blank line -->\n",
    "<figure class=\"video_container\">\n",
    "  <iframe width=\"100%\" height=\"600px\" name=\"htmlComp-iframe\" scrolling=\"auto\" sandbox=\"allow-same-origin allow-forms allow-popups allow-scripts allow-pointer-lock\" src=\"https://leonardoiheme-wixsite-com.filesusr.com/html/d6f1dc_b9cdb4cd6b3bc477a7380225601011e9.html\"></iframe>\n",
    "</figure>\n",
    "<!-- blank line -->"
   ]
  },
  {
   "cell_type": "markdown",
   "metadata": {},
   "source": [
    "The following table shows the neighborhoods in their respective clusters\n",
    "\n",
    "\n",
    "|Neighborhood      |District|*_*|Neighborhood   |District|*_*|Neighborhood   |District|*_*|Neighborhood   |District|*_*|Neighborhood  |District|\n",
    "|------------------|--------|---|---------------|--------|---|---------------|--------|---|---------------|--------|---|--------------|--------|\n",
    "|19 MAYIS MAH.     |Kadikoy |* *|ABBASAGA MAH.  |Besiktas|* *|AKATLAR MAH.   |Besiktas|* *|CAFERAGA MAH.  |Kadikoy |* *|BALMUMCU MAH. |Besiktas|\n",
    "|ACIBADEM MAH.     |Kadikoy |* *|ARNAVUTKOY MAH.|Besiktas|* *|DIKILITAS MAH. |Besiktas|* *|FENERBAHCE MAH.|Kadikoy |* *|BEBEK MAH.    |Besiktas|\n",
    "|BOSTANCI MAH.     |Kadikoy |* *|ETILER MAH.    |Besiktas|* *|DUMLUPINAR MAH.|Kadikoy |* *|SUADIYE MAH.   |Kadikoy |* *|CIHANNUMA MAH.|Besiktas|\n",
    "|CADDEBOSTAN MAH.  |Kadikoy |* *|KULTUR MAH.    |Besiktas|* *|FIKIRTEPE MAH. |Kadikoy |* *|* *            |* *     |* *|EGİTIM MAH.   |Kadikoy |\n",
    "|ERENKOY MAH.      |Kadikoy |* *|KURUCESME MAH. |Besiktas|* *|GAYRETTEPE MAH.|Besiktas|* *|* *            |* *     |* *|MECIDIYE MAH. |Besiktas|\n",
    "|FENERYOLU MAH.    |Kadikoy |* *|MURADIYE MAH.  |Besiktas|* *|HASANPASA MAH. |Kadikoy |* *|* *            |* *     |* *|ORTAKOY MAH.  |Besiktas|\n",
    "|GOZTEPE MAH.      |Kadikoy |* *|OSMANAGA MAH.  |Kadikoy |* *|KONAKLAR MAH.  |Besiktas|* *|* *            |* *     |* *|YILDIZ MAH.   |Besiktas|\n",
    "|KOZYATAGI MAH.    |Kadikoy |* *|RASIMPASA MAH. |Kadikoy |* *|KOSUYOLU MAH.  |Kadikoy |* *|* *            |* *     |* *|* *           |* *     |\n",
    "|MERDIVENKOY MAH.  |Kadikoy |* *|SINANPASA MAH. |Besiktas|* *|LEVAZIM MAH.   |Besiktas|* *|* *            |* *     |* *|* *           |* *     |\n",
    "|SAHRAYI CEDIT MAH.|Kadikoy |* *|TURKALI MAH.   |Besiktas|* *|LEVENT MAH.    |Besiktas|* *|* *            |* *     |* *|* *           |* *     |\n",
    "|* *               |* *     |* *|VISNEZADE MAH. |Besiktas|* *|NISBETIYE MAH. |Besiktas|* *|* *            |* *     |* *|* *           |* *     |\n",
    "|* *               |* *     |* *|ZUHTUPASA MAH. |Kadikoy |* *|ULUS MAH.      |Besiktas|* *|* *            |* *     |* *|* *           |* *     |\n"
   ]
  },
  {
   "cell_type": "markdown",
   "metadata": {},
   "source": [
    "# 5 Discussion\n",
    "The preceeding sections of the report have shown how complex the neighborhoods are. Specifically, the data exploratory section reveals that some unforseen traits such as the variation found in Kadıköy in contrast to Beşiktaş. In particular, the varying cost of living, while Beşiktaş is a more exensive neighborhood than Kadıköy, the scale in Kadıköy is spread out.\n",
    "\n",
    "Furthermore, the likelihood of finding a wider range of coffee is higher in Beşiktaş than Kadıköy since there are more coffee shops in the neighborhoods of Beşiktaş. In Kadıköy, the distance of the neighborhoods from the coast seems to be negetively correlated with the number of coffee shops and positively correlated with the cost of rent.\n",
    "\n",
    "The clustering analysis revealed the similar neighborhoods. For instance, according to the results of clustering, neighborhoods in clusters three and four have the most number of coffee shops as shown in the violin plot below\n",
    "![alt text](cluster_coffee.png \"Clustering result: number of coffee shops\")\n",
    "and neighborhoods in cluster one have the lowest rent\n",
    "![alt text](cluster_housing.png \"Clustering result: rent\")\n",
    "In addition, those in cluster three have got the least crowded coffee shops while those in cluster one have the most crowded coffee shops.\n",
    "![alt text](cluster_crowd.png \"Clustering result: rent\")\n",
    "Several recommendations can be made from the findings of this study."
   ]
  },
  {
   "cell_type": "markdown",
   "metadata": {},
   "source": [
    "# 6 Conclusion and Future Work\n",
    "In this report, I have outlined the findings of both exporatory data analysis and inferential data analysis. Using several data gathering and wrangling techniques, features of two of the most loved by locals districts of Istanbul were analyzed. Furthermore, machine learning was applied to find the neighborhoods that were most similar. The aim of the study was not to say which neighborhood was better but to serve as a guide to those seeking to get a specific coffee experience. I leave it to the reader to decide where and how to have coffee given the forgone analysis and their preference.\n",
    "\n",
    "There are many avnues for improving the work that has been done. One would be improving the quality of data by acquiring it from sources that do not limit the amout that can be collected. With such data, one will have the means to perform more sophisticated and accurate analysis. With information such as the customer reviews, sentiment analysis can be carried out."
   ]
  },
  {
   "cell_type": "code",
   "execution_count": null,
   "metadata": {},
   "outputs": [],
   "source": []
  }
 ],
 "metadata": {
  "kernelspec": {
   "display_name": "Python 3",
   "language": "python",
   "name": "python3"
  },
  "language_info": {
   "codemirror_mode": {
    "name": "ipython",
    "version": 3
   },
   "file_extension": ".py",
   "mimetype": "text/x-python",
   "name": "python",
   "nbconvert_exporter": "python",
   "pygments_lexer": "ipython3",
   "version": "3.7.3"
  }
 },
 "nbformat": 4,
 "nbformat_minor": 2
}
