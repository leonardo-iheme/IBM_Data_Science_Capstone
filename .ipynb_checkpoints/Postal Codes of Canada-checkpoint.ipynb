{
 "cells": [
  {
   "cell_type": "markdown",
   "metadata": {},
   "source": [
    "# Web-scraping Canadian Postal Codes\n",
    "We use BeautifulSoup to obtain the table of Canadian postal codes from [Wikipedia](http://www.wikizero.biz/index.php?q=aHR0cHM6Ly9lbi53aWtpcGVkaWEub3JnL3dpa2kvTGlzdF9vZl9wb3N0YWxfY29kZXNfb2ZfQ2FuYWRhOl9N)"
   ]
  },
  {
   "cell_type": "code",
   "execution_count": null,
   "metadata": {},
   "outputs": [],
   "source": [
    "# Import the necessary libraries\n",
    "from bs4 import BeautifulSoup\n",
    "import requests\n",
    "import pandas as pd\n",
    "import numpy as np\n",
    "import re"
   ]
  },
  {
   "cell_type": "code",
   "execution_count": null,
   "metadata": {},
   "outputs": [],
   "source": [
    "# Assign variable 'table' to the URL containing the needed table\n",
    "table = requests.get(r\"http://www.wikizero.biz/index.php?q=aHR0cHM6Ly9lbi53aWtpcGVkaWEub3JnL3dpa2kvTGlzdF9vZl9wb3N0YWxfY29kZXNfb2ZfQ2FuYWRhOl9N\").text\n",
    "\n",
    "# Create a BeautifulSoup instance\n",
    "soup = BeautifulSoup(table, \"lxml\")\n",
    "# print(soup.prettify())"
   ]
  },
  {
   "cell_type": "markdown",
   "metadata": {},
   "source": [
    "### Extracting the table\n",
    "After inspecting the webpage, I realized that the table of interest has the **tbody** tag  \n",
    "The other associated tags are:  \n",
    "* *th* ---- Header tag\n",
    "* *td* ---- Row tag"
   ]
  },
  {
   "cell_type": "code",
   "execution_count": null,
   "metadata": {},
   "outputs": [],
   "source": [
    "# Extract the table from the 'soup' instance\n",
    "Table = soup.find('tbody')\n",
    "# print(Table.prettify())"
   ]
  },
  {
   "cell_type": "code",
   "execution_count": null,
   "metadata": {
    "scrolled": false
   },
   "outputs": [],
   "source": [
    "# From Table, we can extract the headers which have the 'th' tag\n",
    "header = [Columns.text for Columns in Table.find_all('th')]\n",
    "header[-1] = header[-1][:-1] # remove new line (\\n) character at the end\n",
    "header[0] = 'PostalCode'\n",
    "print(header)\n",
    "\n",
    "# From Table, we can extract the rows which have the 'td' tag\n",
    "body = [body.text for body in Table.find_all('td')]\n",
    "body = np.array(body).reshape([-1,3])"
   ]
  },
  {
   "cell_type": "markdown",
   "metadata": {},
   "source": [
    "### Create the initial DataFrame"
   ]
  },
  {
   "cell_type": "code",
   "execution_count": null,
   "metadata": {
    "scrolled": true
   },
   "outputs": [],
   "source": [
    "df = pd.DataFrame.from_records(body)\n",
    "df.columns = header\n",
    "\n",
    "# Delete the last character (\\n) of every row\n",
    "df['Neighbourhood'] = df.Neighbourhood.str.replace(\"\\n\", \"\")\n",
    "df.head()"
   ]
  },
  {
   "cell_type": "markdown",
   "metadata": {},
   "source": [
    "### Clean the data\n",
    "The necessary steps as specified in the instructions are carried out"
   ]
  },
  {
   "cell_type": "code",
   "execution_count": null,
   "metadata": {},
   "outputs": [],
   "source": [
    "# delete rows that do not have a Borough\n",
    "df = df[df.Borough != 'Not assigned']\n",
    "\n",
    "# Group neighbourhoods that have the same borough\n",
    "df_final = pd.DataFrame(df.groupby(['PostalCode', 'Borough'])['Neighbourhood'].sum())\n",
    "\n",
    "df_final.reset_index(level=df_final.index.names, inplace=True)\n",
    "df_final.head()"
   ]
  },
  {
   "cell_type": "markdown",
   "metadata": {},
   "source": [
    "#### Use regular expressions to perform string operations\n",
    "I noticed that the text in the **Neighbourhood** coulumn are not properly formatted after the *join* operation  \n",
    "There is not comma and space between neighborhoods.  \n",
    "Using regular expressions in a for loop, this problem was solved"
   ]
  },
  {
   "cell_type": "code",
   "execution_count": null,
   "metadata": {},
   "outputs": [],
   "source": [
    "\n",
    "splits = [re.sub(r\"(?<=\\w)([A-Z])\", r\", \\1\", df_final.Neighbourhood.values[i]) for i, x in enumerate(df_final.Neighbourhood.values)]\n",
    "df_final['Neighbourhood'] = splits\n",
    "df_final.head()"
   ]
  },
  {
   "cell_type": "code",
   "execution_count": null,
   "metadata": {
    "scrolled": true
   },
   "outputs": [],
   "source": [
    "print(df_final.shape)"
   ]
  },
  {
   "cell_type": "markdown",
   "metadata": {},
   "source": [
    "## Get latitude & logitude"
   ]
  },
  {
   "cell_type": "code",
   "execution_count": null,
   "metadata": {},
   "outputs": [],
   "source": [
    "!conda install -c conda-forge geocoder "
   ]
  },
  {
   "cell_type": "code",
   "execution_count": null,
   "metadata": {},
   "outputs": [],
   "source": [
    "import geocoder # import geocoder\n",
    "\n",
    "# initialize your variable to None\n",
    "lat_lng_coords = None\n",
    "\n",
    "postal_codes = df_final.PostalCode.values\n",
    "latitudes = []\n",
    "longitudes = []\n",
    "\n",
    "for postal_code in postal_codes:\n",
    "    # loop until you get the coordinates\n",
    "    while(lat_lng_coords is None):\n",
    "        g = geocoder.google('{}, Toronto, Ontario'.format(postal_code))\n",
    "        lat_lng_coords = g.latlng\n",
    "\n",
    "    latitudes = np.append(latitudes, lat_lng_coords[0])\n",
    "    longitudes = np.append(longitudes, lat_lng_coords[1])"
   ]
  },
  {
   "cell_type": "code",
   "execution_count": null,
   "metadata": {},
   "outputs": [],
   "source": []
  }
 ],
 "metadata": {
  "kernelspec": {
   "display_name": "Python 3",
   "language": "python",
   "name": "python3"
  },
  "language_info": {
   "codemirror_mode": {
    "name": "ipython",
    "version": 3
   },
   "file_extension": ".py",
   "mimetype": "text/x-python",
   "name": "python",
   "nbconvert_exporter": "python",
   "pygments_lexer": "ipython3",
   "version": "3.7.3"
  }
 },
 "nbformat": 4,
 "nbformat_minor": 2
}
